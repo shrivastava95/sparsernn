{
 "cells": [
  {
   "cell_type": "code",
   "execution_count": 2,
   "metadata": {},
   "outputs": [],
   "source": [
    "import pandas as pd\n",
    "import matplotlib.pyplot as plt\n",
    "import numpy as np\n",
    "from sklearn.model_selection import train_test_split\n",
    "from sklearn.preprocessing import LabelEncoder\n",
    "import seaborn as sns\n",
    "from sklearn.utils import shuffle\n",
    "\n",
    "import torch\n",
    "import torch.nn as nn\n",
    "from torch.autograd import Variable\n",
    "from torchsummary import summary\n",
    "import torchvision\n",
    "import torchvision.transforms as transforms\n",
    "from torch.utils.data import Dataset, DataLoader\n",
    "from PIL import Image\n",
    "import warnings\n",
    "warnings.filterwarnings(\"ignore\")\n",
    "import seaborn as sns\n",
    "from sklearn.decomposition import PCA\n",
    "import random\n",
    "from sklearn.preprocessing import StandardScaler\n",
    "\n",
    "#fix random seed\n",
    "random.seed(0)\n",
    "np.random.seed(0)\n",
    "torch.manual_seed(0)\n",
    "import torch.nn.functional as F\n",
    "from sklearn.preprocessing import MinMaxScaler\n",
    "import os\n",
    "import pickle\n",
    "import nltk"
   ]
  },
  {
   "cell_type": "code",
   "execution_count": 16,
   "metadata": {},
   "outputs": [
    {
     "name": "stderr",
     "output_type": "stream",
     "text": [
      "[nltk_data] Downloading package treebank to e:\\IITJ\\UG third\n",
      "[nltk_data]     year\\semester 6\\DL\\major\\sparsernn...\n",
      "[nltk_data]   Unzipping corpora\\treebank.zip.\n",
      "[nltk_data] Downloading package brown to e:\\IITJ\\UG third\n",
      "[nltk_data]     year\\semester 6\\DL\\major\\sparsernn...\n",
      "[nltk_data]   Unzipping corpora\\brown.zip.\n",
      "[nltk_data] Downloading package conll2000 to e:\\IITJ\\UG third\n",
      "[nltk_data]     year\\semester 6\\DL\\major\\sparsernn...\n",
      "[nltk_data]   Unzipping corpora\\conll2000.zip.\n"
     ]
    },
    {
     "data": {
      "text/plain": [
       "True"
      ]
     },
     "execution_count": 16,
     "metadata": {},
     "output_type": "execute_result"
    }
   ],
   "source": [
    "#download nltk datasets to this directory\n",
    "nltk.data.path.append(os.getcwd())\n",
    "nltk.download('treebank', download_dir=os.getcwd())\n",
    "nltk.download('brown', download_dir=os.getcwd())\n",
    "nltk.download('conll2000', download_dir=os.getcwd())"
   ]
  },
  {
   "attachments": {},
   "cell_type": "markdown",
   "metadata": {},
   "source": [
    "## Part of speech tagging"
   ]
  },
  {
   "cell_type": "code",
   "execution_count": 19,
   "metadata": {},
   "outputs": [],
   "source": [
    "from nltk.corpus import treebank, brown, conll2000"
   ]
  },
  {
   "cell_type": "code",
   "execution_count": 49,
   "metadata": {},
   "outputs": [],
   "source": [
    "treebank_data = treebank.tagged_sents()\n",
    "brown_data = brown.tagged_sents()\n",
    "conll2000_data = conll2000.tagged_sents()\n"
   ]
  },
  {
   "cell_type": "code",
   "execution_count": 50,
   "metadata": {},
   "outputs": [],
   "source": [
    "dataset = treebank_data + brown_data + conll2000_data"
   ]
  },
  {
   "cell_type": "code",
   "execution_count": 51,
   "metadata": {},
   "outputs": [
    {
     "data": {
      "image/png": "[encoded data removed]",
      "text/plain": [
       "<Figure size 432x288 with 1 Axes>"
      ]
     },
     "metadata": {
      "needs_background": "light"
     },
     "output_type": "display_data"
    }
   ],
   "source": [
    "#make histogram of sentence lengths\n",
    "plt.hist([len(sentence) for sentence in dataset], bins=50)\n",
    "plt.show()\n",
    "\n"
   ]
  },
  {
   "cell_type": "code",
   "execution_count": 52,
   "metadata": {},
   "outputs": [],
   "source": [
    "#remove sentences with length > 50\n",
    "dataset = [sentence for sentence in dataset if len(sentence) <= 50]"
   ]
  },
  {
   "cell_type": "code",
   "execution_count": 53,
   "metadata": {},
   "outputs": [],
   "source": [
    "class Language:\n",
    "    def __init__(self, name):\n",
    "        self.name = name\n",
    "        self.word2index = {\"<SOS>\":0, \"<EOS>\":1, \"<PAD>\":2}\n",
    "        self.index2word = {0:\"<SOS>\", 1:\"<EOS>\", 2:\"<PAD>\"}\n",
    "        self.word2count = {}\n",
    "        self.n_words = 3\n",
    "        self.max_length = 0\n",
    "    \n",
    "    def addSentence(self, sentence):\n",
    "        for word in sentence:\n",
    "            self.addWord(word)\n",
    "        \n",
    "        if(len(sentence) > self.max_length):\n",
    "            self.max_length = len(sentence)\n",
    "    \n",
    "    def addWord(self, word):\n",
    "        if word not in self.word2index:\n",
    "            self.word2index[word] = self.n_words\n",
    "            self.index2word[self.n_words] = word\n",
    "            self.word2count[word] = 1\n",
    "            self.n_words += 1\n",
    "        else:\n",
    "            self.word2count[word] += 1"
   ]
  },
  {
   "cell_type": "code",
   "execution_count": 54,
   "metadata": {},
   "outputs": [],
   "source": [
    "def word_token_seprator(data):\n",
    "    x=[]\n",
    "    y=[]\n",
    "\n",
    "    for sentence in data:\n",
    "        x.append([word[0] for word in sentence])\n",
    "        y.append([word[1] for word in sentence])\n",
    "    \n",
    "    return x, y\n",
    "\n",
    "def word_to_token(dataset,language):\n",
    "  \n",
    "    dataset_token = []\n",
    "   \n",
    "    for sentence in dataset:\n",
    "        dataset_token.append([language.word2index[word] for word in sentence])\n",
    "    \n",
    "    return dataset_token\n",
    "    \n",
    "def pad_dataset(dataset,language,left_padding=True):\n",
    "    max_length = language.max_length\n",
    "    if(left_padding):\n",
    "        for i in range(len(dataset)):\n",
    "            dataset[i] = [language.word2index[\"<PAD>\"]]*(max_length-len(dataset[i])) + dataset[i]\n",
    "    else:\n",
    "        for i in range(len(dataset)):\n",
    "            dataset[i] = dataset[i] + [language.word2index[\"<PAD>\"]]*(max_length-len(dataset[i]))\n",
    "\n",
    "    for i in range(len(dataset)):\n",
    "        dataset[i] = [language.word2index[\"<SOS>\"]] + dataset[i] + [language.word2index[\"<EOS>\"]]\n",
    "\n",
    "    return dataset\n",
    "\n",
    "def create_dataset(data):\n",
    "    x, y = word_token_seprator(data)\n",
    "    input_lang = Language('input')\n",
    "    output_lang = Language('tokens')\n",
    "\n",
    "    for sentence in x:\n",
    "        input_lang.addSentence(sentence)\n",
    "    \n",
    "    for sentence in y:\n",
    "        output_lang.addSentence(sentence)\n",
    "    \n",
    "    x = word_to_token(x, input_lang)\n",
    "    y = word_to_token(y, output_lang)\n",
    "\n",
    "    x = pad_dataset(x, input_lang)\n",
    "    y = pad_dataset(y, output_lang, left_padding=False)\n",
    "\n",
    "    return x, y, input_lang, output_lang\n",
    "\n",
    "x, y, input_lang, output_lang = create_dataset(dataset)\n",
    "    \n",
    "    "
   ]
  },
  {
   "cell_type": "code",
   "execution_count": 56,
   "metadata": {},
   "outputs": [
    {
     "name": "stdout",
     "output_type": "stream",
     "text": [
      "Number of sentences in dataset:  70250\n",
      "Number of words in input language:  64273\n",
      "Number of words in output language:  482\n",
      "Max length of sentence in dataset:  50\n"
     ]
    }
   ],
   "source": [
    "print(\"Number of sentences in dataset: \", len(x))\n",
    "print(\"Number of words in input language: \", input_lang.n_words)\n",
    "print(\"Number of words in output language: \", output_lang.n_words)\n",
    "print(\"Max length of sentence in dataset: \", input_lang.max_length)\n"
   ]
  },
  {
   "attachments": {},
   "cell_type": "markdown",
   "metadata": {},
   "source": [
    "## Constituency parsing(work in progress)"
   ]
  },
  {
   "cell_type": "code",
   "execution_count": 80,
   "metadata": {},
   "outputs": [],
   "source": [
    "from nltk.corpus import treebank\n",
    "from nltk.tree import ParentedTree\n",
    "\n",
    "# Load the Treebank dataset\n",
    "sentences = treebank.parsed_sents()\n",
    "\n",
    "# Preprocess the dataset for constituency parsing\n",
    "trees = []\n",
    "for sent in sentences:\n",
    "    sent = ParentedTree.convert(sent)\n",
    "    trees.append(sent)\n"
   ]
  },
  {
   "cell_type": "code",
   "execution_count": 81,
   "metadata": {},
   "outputs": [
    {
     "name": "stdout",
     "output_type": "stream",
     "text": [
      "<class 'nltk.tree.parented.ParentedTree'>\n"
     ]
    }
   ],
   "source": [
    "print(type(trees[0]))"
   ]
  },
  {
   "cell_type": "code",
   "execution_count": 88,
   "metadata": {},
   "outputs": [],
   "source": [
    "#make torch dataset for constituency parsing\n",
    "class PennTreeBankDataset(Dataset):\n",
    "    def __init__(self, trees, transform=None):\n",
    "        self.trees = trees\n",
    "        self.transform = transform\n",
    "    \n",
    "    def __len__(self):\n",
    "        return len(self.trees)\n",
    "    \n",
    "    def __getitem__(self, idx):\n",
    "        tree = self.trees[idx]\n",
    "        tree = ParentedTree.convert(tree)\n",
    "        tree.collapse_unary(collapsePOS=False)\n",
    "        tree = tree.pformat(margin=1000000)\n",
    "        tree = tree.split(\" \")\n",
    "\n",
    "        if(self.transform):\n",
    "            tree = self.transform(tree)\n",
    "        \n",
    "        return tree\n"
   ]
  },
  {
   "cell_type": "code",
   "execution_count": 89,
   "metadata": {},
   "outputs": [],
   "source": [
    "dataset = PennTreeBankDataset(trees, transform=None)"
   ]
  },
  {
   "cell_type": "code",
   "execution_count": 90,
   "metadata": {},
   "outputs": [
    {
     "name": "stdout",
     "output_type": "stream",
     "text": [
      "['(S', '(NP-SBJ', '(DT', 'The)', '(NN', 'plant))', '(VP', '(MD', 'will)', '(VP', '(VB', 'produce)', '(NP', '(NP', '(NN', 'control)', '(NNS', 'devices))', '(VP', '(VBN', 'used)', '(NP', '(-NONE-', '*))', '(PP-LOC', '(IN', 'in)', '(NP', '(NP', '(NN', 'motor)', '(NNS', 'vehicles))', '(CC', 'and)', '(NP', '(NN', 'household)', '(NNS', 'appliances))))))))', '(.', '.))']\n",
      "['(S', '(ADVP-TMP', '(NP', '(DT', 'A)', '(NN', 'year))', '(RBR', 'earlier))', '(,', ',)', '(NP-SBJ', '(PRP', 'it))', '(VP', '(VBD', 'had)', '(NP', '(NP', '(NN', 'profit))', '(PP', '(IN', 'of)', '(NP', '(NP', '(QP', '($', '$)', '(CD', '7.5)', '(CD', 'million))', '(-NONE-', '*U*))', '(,', ',)', '(CC', 'or)', '(NP', '(NP', '(CD', '18)', '(NNS', 'cents))', '(NP-ADV', '(DT', 'a)', '(NN', 'share)))))))', '(.', '.))']\n",
      "['(S', '(NP-SBJ', '(DT', 'The)', '(JJ', 'final)', '(NN', 'vote))', '(VP', '(VBD', 'came)', '(SBAR-TMP', '(IN', 'after)', '(S', '(NP-SBJ', '(DT', 'the)', '(NNP', 'House))', '(VP', '(VP', '(VBD', 'rejected)', '(NP', '(JJ', 'Republican)', '(NNS', 'efforts)', '(S', '(NP-SBJ', '(-NONE-', '*))', '(VP', '(TO', 'to)', '(VP', '(VB', 'weaken)', '(NP', '(DT', 'the)', '(NN', 'bill)))))))', '(CC', 'and)', '(VP', '(VBD', 'approved)', '(NP', '(NP', '(CD', 'two)', '(NNS', 'amendments))', '(VP', '(VBN', 'sought)', '(NP', '(-NONE-', '*))', '(PP', '(IN', 'by)', '(NP-LGS', '(VBN', 'organized)', '(NN', 'labor))))))))))', '(.', '.))']\n",
      "['(S', '(NP-SBJ-1', '(PRP', 'He)', '(CC', 'and)', '(NNS', 'others))', '(VP', '(VBP', 'prefer)', '(S', '(NP-SBJ', '(-NONE-', '*-1))', '(VP', '(TO', 'to)', '(VP', '(VB', 'install)', '(NP', '(NP', '(NNS', 'railings))', '(PP', '(JJ', 'such)', '(IN', 'as)', '(NP', '(NP', '(DT', 'the)', '(``', '``)', '(NN', 'type)', '(NN', 'F)', '(NN', 'safety)', '(NN', 'shape))', '(,', ',)', \"(''\", \"'')\", '(NP', '(NP', '(DT', 'a)', '(JJ', 'four-foot-high)', '(JJ', 'concrete)', '(NN', 'slab))', '(PP', '(IN', 'with)', '(NP', '(DT', 'no)', '(NNS', 'openings)))))))))))', '(.', '.))']\n",
      "['(S', '(``', '``)', '(S-TPC-2', '(NP-SBJ', '(NP', '(DT', 'The)', '(NN', 'sound))', '(PP', '(IN', 'of)', '(NP', '(NNS', 'bells))))', '(VP', '(VBZ', 'is)', '(NP-PRD', '(NP', '(DT', 'a)', '(NN', 'net))', '(SBAR', '(WHNP-1', '(-NONE-', '0))', '(S', '(NP-SBJ', '(-NONE-', '*T*-1))', '(VP', '(TO', 'to)', '(VP', '(VB', 'draw)', '(NP', '(NNS', 'people))', '(PP-CLR', '(IN', 'into)', '(NP', '(DT', 'the)', '(NN', 'church))))))))))', '(,', ',)', \"(''\", \"'')\", '(NP-SBJ', '(PRP', 'he))', '(VP', '(VBZ', 'says)', '(S', '(-NONE-', '*T*-2)))', '(.', '.))']\n"
     ]
    }
   ],
   "source": [
    "#print random samples from dataset\n",
    "for i in range(5):\n",
    "    print(dataset[random.randint(0, len(dataset))])"
   ]
  },
  {
   "attachments": {},
   "cell_type": "markdown",
   "metadata": {},
   "source": [
    "## Sentiment Analysis IMDB"
   ]
  },
  {
   "cell_type": "code",
   "execution_count": 100,
   "metadata": {},
   "outputs": [],
   "source": [
    "#import stopwords\n",
    "from nltk.corpus import stopwords\n",
    "import re"
   ]
  },
  {
   "cell_type": "code",
   "execution_count": 101,
   "metadata": {},
   "outputs": [],
   "source": [
    "dataset = pd.read_csv('./IMDB Dataset.csv', encoding='latin-1')\n",
    "stop_words = set(stopwords.words('english'))"
   ]
  },
  {
   "cell_type": "code",
   "execution_count": 126,
   "metadata": {},
   "outputs": [
    {
     "data": {
      "image/png": "[encoded data removed]",
      "text/plain": [
       "<Figure size 432x288 with 1 Axes>"
      ]
     },
     "metadata": {
      "needs_background": "light"
     },
     "output_type": "display_data"
    }
   ],
   "source": [
    "#plot histogram of sentence lengths\n",
    "plt.hist([len(sentence) for sentence in dataset['review']], bins=50)\n",
    "plt.show()"
   ]
  },
  {
   "cell_type": "code",
   "execution_count": 127,
   "metadata": {},
   "outputs": [],
   "source": [
    "#remove sentences with length > 2500\n",
    "dataset = dataset[[len(sentence) <= 2500 for sentence in dataset['review']]]"
   ]
  },
  {
   "cell_type": "code",
   "execution_count": 128,
   "metadata": {},
   "outputs": [],
   "source": [
    "def clean_string(s):\n",
    "    s= re.sub(r\"[^\\w\\s]\",'',s)\n",
    "\n",
    "    s= re.sub(r\"\\d\",'',s)\n",
    "\n",
    "    s = [word for word in s.split() if len(word) > 3]\n",
    "\n",
    "    #remove stopwords\n",
    "    s = [word for word in s if word not in stop_words]\n",
    "    return s\n"
   ]
  },
  {
   "cell_type": "code",
   "execution_count": 129,
   "metadata": {},
   "outputs": [],
   "source": [
    "class Language:\n",
    "    def __init__(self,name):\n",
    "        self.name = name\n",
    "        self.word2index = {\"<SOS>\":0, \"<EOS>\":1, \"<PAD>\":2}\n",
    "        self.index2word = {0:\"<SOS>\", 1:\"<EOS>\", 2:\"<PAD>\"}\n",
    "        self.word2count = {}\n",
    "        self.n_words = 3\n",
    "        self.max_length = 0\n",
    "    \n",
    "    def addSentence(self, sentence):\n",
    "        for word in sentence:\n",
    "            self.addWord(word)\n",
    "        \n",
    "        if(len(sentence) > self.max_length):\n",
    "            self.max_length = len(sentence)\n",
    "    \n",
    "    def addWord(self, word):\n",
    "        if word not in self.word2index:\n",
    "            self.word2index[word] = self.n_words\n",
    "            self.index2word[self.n_words] = word\n",
    "            self.word2count[word] = 1\n",
    "            self.n_words += 1\n",
    "        else:\n",
    "            self.word2count[word] += 1"
   ]
  },
  {
   "cell_type": "code",
   "execution_count": 130,
   "metadata": {},
   "outputs": [],
   "source": [
    "def create_dataset(dataset):\n",
    "    x = []\n",
    "    y = []\n",
    "    for i in range(len(dataset)):\n",
    "        x.append(clean_string(dataset.iloc[i,0]))\n",
    "        y.append(dataset.iloc[i,1]=='positive')\n",
    "    \n",
    "    input_lang = Language('input')\n",
    "\n",
    "    for sentence in x:\n",
    "        input_lang.addSentence(sentence)\n",
    "\n",
    "    x = word_to_token(x, input_lang)\n",
    "    x = pad_dataset(x, input_lang)\n",
    "\n",
    "    return x, y, input_lang\n",
    "\n",
    "\n",
    "\n",
    "x, y, input_lang= create_dataset(dataset)\n"
   ]
  },
  {
   "cell_type": "code",
   "execution_count": 131,
   "metadata": {},
   "outputs": [
    {
     "name": "stdout",
     "output_type": "stream",
     "text": [
      "[0, 2, 2, 2, 2, 2, 2, 2, 2, 2, 2, 2, 2, 2, 2, 2, 2, 2, 2, 2, 2, 2, 2, 2, 2, 2, 2, 2, 2, 2, 2, 2, 2, 2, 2, 2, 2, 2, 2, 2, 2, 2, 2, 2, 2, 2, 2, 2, 2, 2, 2, 2, 2, 2, 2, 2, 2, 2, 2, 2, 2, 2, 2, 2, 2, 2, 2, 2, 2, 2, 2, 2, 2, 2, 2, 2, 2, 2, 2, 2, 2, 2, 2, 2, 2, 2, 2, 2, 2, 2, 2, 2, 2, 3, 4, 5, 6, 7, 8, 9, 10, 11, 12, 13, 14, 15, 16, 17, 18, 19, 20, 10, 21, 22, 23, 24, 25, 26, 27, 23, 28, 29, 30, 31, 20, 32, 33, 34, 35, 36, 37, 38, 39, 40, 41, 42, 43, 44, 45, 46, 47, 48, 49, 50, 51, 52, 53, 54, 55, 56, 57, 46, 58, 59, 60, 61, 62, 63, 64, 65, 66, 67, 68, 69, 70, 71, 72, 73, 74, 75, 76, 77, 78, 23, 79, 80, 81, 82, 83, 84, 85, 86, 87, 88, 89, 90, 91, 90, 92, 93, 94, 95, 14, 6, 96, 16, 97, 98, 99, 100, 101, 102, 103, 104, 56, 105, 106, 20, 20, 107, 108, 109, 110, 111, 112, 113, 110, 114, 115, 116, 117, 118, 119, 120, 113, 121, 49, 122, 123, 124, 125, 49, 126, 127, 128, 129, 130, 131, 132, 133, 134, 1]\n"
     ]
    }
   ],
   "source": [
    "print(x[0])"
   ]
  },
  {
   "cell_type": "code",
   "execution_count": null,
   "metadata": {},
   "outputs": [],
   "source": []
  },
  {
   "cell_type": "code",
   "execution_count": 133,
   "metadata": {},
   "outputs": [
    {
     "name": "stdout",
     "output_type": "stream",
     "text": [
      "Number of sentences in dataset:  44660\n",
      "Number of words in input language:  167714\n",
      "Max length of sentence in dataset:  240\n"
     ]
    }
   ],
   "source": [
    "print(\"Number of sentences in dataset: \", len(x))\n",
    "print(\"Number of words in input language: \", input_lang.n_words)\n",
    "print(\"Max length of sentence in dataset: \", input_lang.max_length)"
   ]
  },
  {
   "cell_type": "code",
   "execution_count": null,
   "metadata": {},
   "outputs": [],
   "source": []
  }
 ],
 "metadata": {
  "kernelspec": {
   "display_name": "Python 3",
   "language": "python",
   "name": "python3"
  },
  "language_info": {
   "codemirror_mode": {
    "name": "ipython",
    "version": 3
   },
   "file_extension": ".py",
   "mimetype": "text/x-python",
   "name": "python",
   "nbconvert_exporter": "python",
   "pygments_lexer": "ipython3",
   "version": "3.8.8"
  },
  "orig_nbformat": 4
 },
 "nbformat": 4,
 "nbformat_minor": 2
}
