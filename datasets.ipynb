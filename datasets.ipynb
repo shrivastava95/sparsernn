{
 "cells": [
  {
   "cell_type": "code",
   "execution_count": 2,
   "metadata": {},
   "outputs": [],
   "source": [
    "import pandas as pd\n",
    "import matplotlib.pyplot as plt\n",
    "import numpy as np\n",
    "from sklearn.model_selection import train_test_split\n",
    "from sklearn.preprocessing import LabelEncoder\n",
    "import seaborn as sns\n",
    "from sklearn.utils import shuffle\n",
    "\n",
    "import torch\n",
    "import torch.nn as nn\n",
    "from torch.autograd import Variable\n",
    "from torchsummary import summary\n",
    "import torchvision\n",
    "import torchvision.transforms as transforms\n",
    "from torch.utils.data import Dataset, DataLoader\n",
    "from PIL import Image\n",
    "import warnings\n",
    "warnings.filterwarnings(\"ignore\")\n",
    "import seaborn as sns\n",
    "from sklearn.decomposition import PCA\n",
    "import random\n",
    "from sklearn.preprocessing import StandardScaler\n",
    "\n",
    "#fix random seed\n",
    "random.seed(0)\n",
    "np.random.seed(0)\n",
    "torch.manual_seed(0)\n",
    "import torch.nn.functional as F\n",
    "from sklearn.preprocessing import MinMaxScaler\n",
    "import os\n",
    "import pickle\n",
    "import nltk"
   ]
  },
  {
   "cell_type": "code",
   "execution_count": 16,
   "metadata": {},
   "outputs": [
    {
     "name": "stderr",
     "output_type": "stream",
     "text": [
      "[nltk_data] Downloading package treebank to e:\\IITJ\\UG third\n",
      "[nltk_data]     year\\semester 6\\DL\\major\\sparsernn...\n",
      "[nltk_data]   Unzipping corpora\\treebank.zip.\n",
      "[nltk_data] Downloading package brown to e:\\IITJ\\UG third\n",
      "[nltk_data]     year\\semester 6\\DL\\major\\sparsernn...\n",
      "[nltk_data]   Unzipping corpora\\brown.zip.\n",
      "[nltk_data] Downloading package conll2000 to e:\\IITJ\\UG third\n",
      "[nltk_data]     year\\semester 6\\DL\\major\\sparsernn...\n",
      "[nltk_data]   Unzipping corpora\\conll2000.zip.\n"
     ]
    },
    {
     "data": {
      "text/plain": [
       "True"
      ]
     },
     "execution_count": 16,
     "metadata": {},
     "output_type": "execute_result"
    }
   ],
   "source": [
    "#download nltk datasets to this directory\n",
    "nltk.data.path.append(os.getcwd())\n",
    "nltk.download('treebank', download_dir=os.getcwd())\n",
    "nltk.download('brown', download_dir=os.getcwd())\n",
    "nltk.download('conll2000', download_dir=os.getcwd())"
   ]
  },
  {
   "attachments": {},
   "cell_type": "markdown",
   "metadata": {},
   "source": [
    "## Part of speech tagging"
   ]
  },
  {
   "cell_type": "code",
   "execution_count": 19,
   "metadata": {},
   "outputs": [],
   "source": [
    "from nltk.corpus import treebank, brown, conll2000"
   ]
  },
  {
   "cell_type": "code",
   "execution_count": 49,
   "metadata": {},
   "outputs": [],
   "source": [
    "treebank_data = treebank.tagged_sents()\n",
    "brown_data = brown.tagged_sents()\n",
    "conll2000_data = conll2000.tagged_sents()\n"
   ]
  },
  {
   "cell_type": "code",
   "execution_count": 50,
   "metadata": {},
   "outputs": [],
   "source": [
    "dataset = treebank_data + brown_data + conll2000_data"
   ]
  },
  {
   "cell_type": "code",
   "execution_count": 51,
   "metadata": {},
   "outputs": [
    {
     "data": {
      "image/png": "[encoded data removed]",
      "text/plain": [
       "<Figure size 432x288 with 1 Axes>"
      ]
     },
     "metadata": {
      "needs_background": "light"
     },
     "output_type": "display_data"
    }
   ],
   "source": [
    "#make histogram of sentence lengths\n",
    "plt.hist([len(sentence) for sentence in dataset], bins=50)\n",
    "plt.show()\n",
    "\n"
   ]
  },
  {
   "cell_type": "code",
   "execution_count": 52,
   "metadata": {},
   "outputs": [],
   "source": [
    "#remove sentences with length > 50\n",
    "dataset = [sentence for sentence in dataset if len(sentence) <= 50]"
   ]
  },
  {
   "cell_type": "code",
   "execution_count": 53,
   "metadata": {},
   "outputs": [],
   "source": [
    "class Language:\n",
    "    def __init__(self, name):\n",
    "        self.name = name\n",
    "        self.word2index = {\"<SOS>\":0, \"<EOS>\":1, \"<PAD>\":2}\n",
    "        self.index2word = {0:\"<SOS>\", 1:\"<EOS>\", 2:\"<PAD>\"}\n",
    "        self.word2count = {}\n",
    "        self.n_words = 3\n",
    "        self.max_length = 0\n",
    "    \n",
    "    def addSentence(self, sentence):\n",
    "        for word in sentence:\n",
    "            self.addWord(word)\n",
    "        \n",
    "        if(len(sentence) > self.max_length):\n",
    "            self.max_length = len(sentence)\n",
    "    \n",
    "    def addWord(self, word):\n",
    "        if word not in self.word2index:\n",
    "            self.word2index[word] = self.n_words\n",
    "            self.index2word[self.n_words] = word\n",
    "            self.word2count[word] = 1\n",
    "            self.n_words += 1\n",
    "        else:\n",
    "            self.word2count[word] += 1"
   ]
  },
  {
   "cell_type": "code",
   "execution_count": 54,
   "metadata": {},
   "outputs": [],
   "source": [
    "def word_token_seprator(data):\n",
    "    x=[]\n",
    "    y=[]\n",
    "\n",
    "    for sentence in data:\n",
    "        x.append([word[0] for word in sentence])\n",
    "        y.append([word[1] for word in sentence])\n",
    "    \n",
    "    return x, y\n",
    "\n",
    "def word_to_token(dataset,language):\n",
    "  \n",
    "    dataset_token = []\n",
    "   \n",
    "    for sentence in dataset:\n",
    "        dataset_token.append([language.word2index[word] for word in sentence])\n",
    "    \n",
    "    return dataset_token\n",
    "    \n",
    "def pad_dataset(dataset,language,left_padding=True):\n",
    "    max_length = language.max_length\n",
    "    if(left_padding):\n",
    "        for i in range(len(dataset)):\n",
    "            dataset[i] = [language.word2index[\"<PAD>\"]]*(max_length-len(dataset[i])) + dataset[i]\n",
    "    else:\n",
    "        for i in range(len(dataset)):\n",
    "            dataset[i] = dataset[i] + [language.word2index[\"<PAD>\"]]*(max_length-len(dataset[i]))\n",
    "\n",
    "    for i in range(len(dataset)):\n",
    "        dataset[i] = [language.word2index[\"<SOS>\"]] + dataset[i] + [language.word2index[\"<EOS>\"]]\n",
    "\n",
    "    return dataset\n",
    "\n",
    "def create_dataset(data):\n",
    "    x, y = word_token_seprator(data)\n",
    "    input_lang = Language('input')\n",
    "    output_lang = Language('tokens')\n",
    "\n",
    "    for sentence in x:\n",
    "        input_lang.addSentence(sentence)\n",
    "    \n",
    "    for sentence in y:\n",
    "        output_lang.addSentence(sentence)\n",
    "    \n",
    "    x = word_to_token(x, input_lang)\n",
    "    y = word_to_token(y, output_lang)\n",
    "\n",
    "    x = pad_dataset(x, input_lang)\n",
    "    y = pad_dataset(y, output_lang, left_padding=False)\n",
    "\n",
    "    return x, y, input_lang, output_lang\n",
    "\n",
    "x, y, input_lang, output_lang = create_dataset(dataset)\n",
    "    \n",
    "    "
   ]
  },
  {
   "cell_type": "code",
   "execution_count": 56,
   "metadata": {},
   "outputs": [
    {
     "name": "stdout",
     "output_type": "stream",
     "text": [
      "Number of sentences in dataset:  70250\n",
      "Number of words in input language:  64273\n",
      "Number of words in output language:  482\n",
      "Max length of sentence in dataset:  50\n"
     ]
    }
   ],
   "source": [
    "print(\"Number of sentences in dataset: \", len(x))\n",
    "print(\"Number of words in input language: \", input_lang.n_words)\n",
    "print(\"Number of words in output language: \", output_lang.n_words)\n",
    "print(\"Max length of sentence in dataset: \", input_lang.max_length)\n"
   ]
  },
  {
   "cell_type": "code",
   "execution_count": null,
   "metadata": {},
   "outputs": [],
   "source": []
  }
 ],
 "metadata": {
  "kernelspec": {
   "display_name": "Python 3",
   "language": "python",
   "name": "python3"
  },
  "language_info": {
   "codemirror_mode": {
    "name": "ipython",
    "version": 3
   },
   "file_extension": ".py",
   "mimetype": "text/x-python",
   "name": "python",
   "nbconvert_exporter": "python",
   "pygments_lexer": "ipython3",
   "version": "3.8.8"
  },
  "orig_nbformat": 4
 },
 "nbformat": 4,
 "nbformat_minor": 2
}
